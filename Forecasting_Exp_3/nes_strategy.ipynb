{
 "cells": [
  {
   "cell_type": "code",
   "execution_count": 3,
   "metadata": {},
   "outputs": [],
   "source": [
    "%load_ext autoreload\n",
    "%autoreload 1"
   ]
  },
  {
   "cell_type": "code",
   "execution_count": 5,
   "metadata": {},
   "outputs": [],
   "source": [
    "# Import files from alphavantage_datapull\n",
    "%aimport backend.general\n",
    "%aimport backend.deep_evolution_strategy\n",
    "%aimport backend.model\n",
    "\n",
    "from backend.general import *\n",
    "from backend.deep_evolution_strategy import *\n",
    "from backend.model import *"
   ]
  },
  {
   "cell_type": "code",
   "execution_count": null,
   "metadata": {},
   "outputs": [],
   "source": [
    "!!! import the data as a dataframe (list?) "
   ]
  },
  {
   "cell_type": "code",
   "execution_count": 7,
   "metadata": {},
   "outputs": [],
   "source": [
    "window_size = 30\n",
    "model = Model(input_size = window_size, layer_size = 500, output_size = 3)"
   ]
  },
  {
   "cell_type": "code",
   "execution_count": null,
   "metadata": {},
   "outputs": [],
   "source": [
    "initial_money = 10000\n",
    "starting_money = initial_money\n",
    "len_close = len(data) - 1\n",
    "weight = model \n",
    "skip = 1\n",
    "\n",
    "state = get_state(data, 0, window_size + 1)\n",
    "inventory = []\n",
    "quantity = 0\n",
    "\n",
    "max_buy = 5\n",
    "max_sell = 5\n"
   ]
  }
 ],
 "metadata": {
  "kernelspec": {
   "display_name": "Python 3",
   "language": "python",
   "name": "python3"
  },
  "language_info": {
   "codemirror_mode": {
    "name": "ipython",
    "version": 3
   },
   "file_extension": ".py",
   "mimetype": "text/x-python",
   "name": "python",
   "nbconvert_exporter": "python",
   "pygments_lexer": "ipython3",
   "version": "3.7.7"
  }
 },
 "nbformat": 4,
 "nbformat_minor": 4
}
