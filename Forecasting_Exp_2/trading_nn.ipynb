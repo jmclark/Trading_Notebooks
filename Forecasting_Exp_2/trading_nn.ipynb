{
 "cells": [
  {
   "cell_type": "markdown",
   "metadata": {},
   "source": [
    "To Do:\n",
    "- Bollinger bands differences\n",
    "- Create wrapper function to in bulk create TAs\n",
    "- Transplant useful functions from previous project into this directory, such as the methods to concatenate seperate datasets and backtest\n",
    "- More clearly define the initial trading paradigm"
   ]
  },
  {
   "cell_type": "code",
   "execution_count": 34,
   "metadata": {},
   "outputs": [
    {
     "name": "stdout",
     "output_type": "stream",
     "text": [
      "The autoreload extension is already loaded. To reload it, use:\n",
      "  %reload_ext autoreload\n"
     ]
    }
   ],
   "source": [
    "# Import packages\n",
    "%load_ext autoreload\n",
    "%autoreload 1\n",
    "\n",
    "import pandas as pd\n",
    "import numpy as np\n",
    "import tensorflow as tf\n",
    "from pathlib import Path\n",
    "from datetime import date\n",
    "import os\n",
    "import sys\n",
    "import time\n",
    "import pickle\n",
    "from termcolor import colored \n",
    "import talib\n",
    "import matplotlib.pyplot as plt\n",
    "from progress.bar import Bar\n",
    "\n",
    "from alpha_vantage.timeseries import TimeSeries"
   ]
  },
  {
   "cell_type": "code",
   "execution_count": 35,
   "metadata": {},
   "outputs": [],
   "source": [
    "# Import files\n",
    "%aimport alphavantage_datapull.load_tickers\n",
    "\n",
    "from alphavantage_datapull.load_tickers import *"
   ]
  },
  {
   "cell_type": "code",
   "execution_count": 36,
   "metadata": {},
   "outputs": [
    {
     "name": "stdout",
     "output_type": "stream",
     "text": [
      "TensorFlow Version:  2.0.0\n"
     ]
    }
   ],
   "source": [
    "# Check package versions\n",
    "\n",
    "print(\"TensorFlow Version: \", tf.__version__)"
   ]
  },
  {
   "cell_type": "code",
   "execution_count": 37,
   "metadata": {},
   "outputs": [
    {
     "name": "stdout",
     "output_type": "stream",
     "text": [
      "GPUs:  [name: \"/device:CPU:0\"\n",
      "device_type: \"CPU\"\n",
      "memory_limit: 268435456\n",
      "locality {\n",
      "}\n",
      "incarnation: 18026722052681891155\n",
      ", name: \"/device:GPU:0\"\n",
      "device_type: \"GPU\"\n",
      "memory_limit: 4855863705\n",
      "locality {\n",
      "  bus_id: 1\n",
      "  links {\n",
      "  }\n",
      "}\n",
      "incarnation: 2940539571502219853\n",
      "physical_device_desc: \"device: 0, name: GeForce GTX 1660 SUPER, pci bus id: 0000:06:00.0, compute capability: 7.5\"\n",
      "] \n",
      "\n"
     ]
    }
   ],
   "source": [
    "# Check GPU recognition\n",
    "\n",
    "from tensorflow.python.client import device_lib\n",
    "print(\"GPUs: \", device_lib.list_local_devices(), \"\\n\")"
   ]
  },
  {
   "cell_type": "code",
   "execution_count": 38,
   "metadata": {},
   "outputs": [],
   "source": [
    "# Import API keys\n",
    "\n",
    "from API_keys import Quandl_api_key, AlphaVantage_api_key"
   ]
  },
  {
   "cell_type": "code",
   "execution_count": 39,
   "metadata": {},
   "outputs": [
    {
     "data": {
      "text/html": [
       "<div>\n",
       "<style scoped>\n",
       "    .dataframe tbody tr th:only-of-type {\n",
       "        vertical-align: middle;\n",
       "    }\n",
       "\n",
       "    .dataframe tbody tr th {\n",
       "        vertical-align: top;\n",
       "    }\n",
       "\n",
       "    .dataframe thead th {\n",
       "        text-align: right;\n",
       "    }\n",
       "</style>\n",
       "<table border=\"1\" class=\"dataframe\">\n",
       "  <thead>\n",
       "    <tr style=\"text-align: right;\">\n",
       "      <th></th>\n",
       "      <th>ticker</th>\n",
       "      <th>name</th>\n",
       "    </tr>\n",
       "  </thead>\n",
       "  <tbody>\n",
       "    <tr>\n",
       "      <th>0</th>\n",
       "      <td>ABBV</td>\n",
       "      <td>AbbVie Inc.</td>\n",
       "    </tr>\n",
       "    <tr>\n",
       "      <th>1</th>\n",
       "      <td>ABT</td>\n",
       "      <td>Abbott Laboratories</td>\n",
       "    </tr>\n",
       "    <tr>\n",
       "      <th>2</th>\n",
       "      <td>ACN</td>\n",
       "      <td>Accenture</td>\n",
       "    </tr>\n",
       "    <tr>\n",
       "      <th>3</th>\n",
       "      <td>ADBE</td>\n",
       "      <td>Adobe Inc.</td>\n",
       "    </tr>\n",
       "    <tr>\n",
       "      <th>4</th>\n",
       "      <td>AGN</td>\n",
       "      <td>Allergan</td>\n",
       "    </tr>\n",
       "  </tbody>\n",
       "</table>\n",
       "</div>"
      ],
      "text/plain": [
       "  ticker                 name\n",
       "0   ABBV          AbbVie Inc.\n",
       "1    ABT  Abbott Laboratories\n",
       "2    ACN            Accenture\n",
       "3   ADBE           Adobe Inc.\n",
       "4    AGN             Allergan"
      ]
     },
     "metadata": {},
     "output_type": "display_data"
    }
   ],
   "source": [
    "# Load S&P100 Tickers\n",
    "\n",
    "sp100_ticker_df = load_sp100_tickers()\n",
    "display(sp100_ticker_df.head())"
   ]
  },
  {
   "cell_type": "code",
   "execution_count": 40,
   "metadata": {},
   "outputs": [],
   "source": [
    "# Set up TimeSeries\n",
    "\n",
    "ts = TimeSeries(key=AlphaVantage_api_key, output_format='pandas')"
   ]
  },
  {
   "cell_type": "code",
   "execution_count": 57,
   "metadata": {},
   "outputs": [
    {
     "name": "stdout",
     "output_type": "stream",
     "text": [
      "Value of api_call_counter:  0\n"
     ]
    }
   ],
   "source": [
    "# Creat data cache daily folder if necessary\n",
    "\n",
    "today = str(date.today())\n",
    "\n",
    "data_cache = Path(\"data_cache/\") / today\n",
    "\n",
    "# Create folder for today\n",
    "if not os.path.exists(data_cache):\n",
    "    os.mkdir(data_cache)\n",
    "\n",
    "# Create API call counter for today\n",
    "api_call_counter_file_path = data_cache / \"api_call_counter_file.pickle\"\n",
    "\n",
    "if not os.path.exists(api_call_counter_file_path):\n",
    "    api_call_counter = 0\n",
    "    with open(api_call_counter_file_path, 'wb') as f:\n",
    "        pickle.dump(api_call_counter, f)\n",
    "else:\n",
    "    with open(api_call_counter_file_path, 'rb') as f:\n",
    "        api_call_counter = pickle.load(f)\n",
    "        \n",
    "print(\"Value of api_call_counter: \", api_call_counter)"
   ]
  },
  {
   "cell_type": "code",
   "execution_count": 58,
   "metadata": {},
   "outputs": [
    {
     "name": "stdout",
     "output_type": "stream",
     "text": [
      "\u001b[32mData for ABBV already exists\u001b[0m\n",
      "\u001b[32mData for ABT already exists\u001b[0m\n",
      "\u001b[32mData for ACN already exists\u001b[0m\n",
      "\u001b[32mData for ADBE already exists\u001b[0m\n",
      "\u001b[32mData for AGN already exists\u001b[0m\n",
      "\u001b[32mData for AIG already exists\u001b[0m\n",
      "\u001b[32mData for ALL already exists\u001b[0m\n",
      "\u001b[32mData for AMGN already exists\u001b[0m\n",
      "\u001b[32mData for AMT already exists\u001b[0m\n",
      "\u001b[32mData for AMZN already exists\u001b[0m\n",
      "\u001b[32mData for AXP already exists\u001b[0m\n",
      "\u001b[32mData for BA already exists\u001b[0m\n",
      "\u001b[32mData for BAC already exists\u001b[0m\n",
      "\u001b[32mData for BIIB already exists\u001b[0m\n",
      "\u001b[32mData for BK already exists\u001b[0m\n",
      "\u001b[32mData for BKNG already exists\u001b[0m\n",
      "\u001b[32mData for BLK already exists\u001b[0m\n",
      "\u001b[32mData for BMY already exists\u001b[0m\n",
      "\u001b[32mData for C already exists\u001b[0m\n",
      "\u001b[32mData for CAT already exists\u001b[0m\n",
      "\u001b[32mData for CHTR already exists\u001b[0m\n",
      "\u001b[32mData for CL already exists\u001b[0m\n",
      "\u001b[32mData for CMCSA already exists\u001b[0m\n",
      "\u001b[32mData for COF already exists\u001b[0m\n",
      "\u001b[32mData for COP already exists\u001b[0m\n",
      "\u001b[32mData for COST already exists\u001b[0m\n",
      "\u001b[32mData for CSCO already exists\u001b[0m\n",
      "\u001b[32mData for CVS already exists\u001b[0m\n",
      "\u001b[32mData for CVX already exists\u001b[0m\n",
      "\u001b[32mData for DD already exists\u001b[0m\n",
      "\u001b[32mData for DHR already exists\u001b[0m\n",
      "Pulling:  DIS\n",
      "Pulling:  DOW\n",
      "Pulling:  DUK\n",
      "Pulling:  EMR\n",
      "Pulling:  EXC\n",
      "\u001b[33m+ API call per min limit - Sleeping for one minute\u001b[0m\n"
     ]
    },
    {
     "data": {
      "text/plain": [
       "'Progress: [####################] 100.0%'"
      ]
     },
     "metadata": {},
     "output_type": "display_data"
    },
    {
     "name": "stdout",
     "output_type": "stream",
     "text": [
      "Pulling:  F\n",
      "Pulling:  FB\n",
      "Pulling:  FDX\n",
      "Pulling:  GD\n",
      "Pulling:  GE\n",
      "\u001b[33m+ API call per min limit - Sleeping for one minute\u001b[0m\n"
     ]
    },
    {
     "data": {
      "text/plain": [
       "'Progress: [####################] 100.0%'"
      ]
     },
     "metadata": {},
     "output_type": "display_data"
    },
    {
     "name": "stdout",
     "output_type": "stream",
     "text": [
      "Pulling:  GILD\n",
      "Pulling:  GM\n",
      "Pulling:  GOOG\n",
      "Pulling:  GOOGL\n",
      "Pulling:  GS\n",
      "\u001b[33m+ API call per min limit - Sleeping for one minute\u001b[0m\n"
     ]
    },
    {
     "data": {
      "text/plain": [
       "'Progress: [####################] 100.0%'"
      ]
     },
     "metadata": {},
     "output_type": "display_data"
    },
    {
     "name": "stdout",
     "output_type": "stream",
     "text": [
      "Pulling:  HD\n",
      "Pulling:  HON\n",
      "Pulling:  IBM\n",
      "Pulling:  INTC\n",
      "Pulling:  JNJ\n",
      "\u001b[33m+ API call per min limit - Sleeping for one minute\u001b[0m\n"
     ]
    },
    {
     "data": {
      "text/plain": [
       "'Progress: [####################] 100.0%'"
      ]
     },
     "metadata": {},
     "output_type": "display_data"
    },
    {
     "name": "stdout",
     "output_type": "stream",
     "text": [
      "Pulling:  JPM\n",
      "Pulling:  KHC\n",
      "Pulling:  KMI\n",
      "Pulling:  KO\n",
      "Pulling:  LLY\n",
      "\u001b[33m+ API call per min limit - Sleeping for one minute\u001b[0m\n"
     ]
    },
    {
     "data": {
      "text/plain": [
       "'Progress: [####################] 100.0%'"
      ]
     },
     "metadata": {},
     "output_type": "display_data"
    },
    {
     "name": "stdout",
     "output_type": "stream",
     "text": [
      "Pulling:  LMT\n",
      "Pulling:  LOW\n",
      "Pulling:  MA\n",
      "Pulling:  MCD\n",
      "Pulling:  MDLZ\n",
      "\u001b[33m+ API call per min limit - Sleeping for one minute\u001b[0m\n"
     ]
    },
    {
     "data": {
      "text/plain": [
       "'Progress: [####################] 100.0%'"
      ]
     },
     "metadata": {},
     "output_type": "display_data"
    },
    {
     "name": "stdout",
     "output_type": "stream",
     "text": [
      "Pulling:  MDT\n",
      "Pulling:  MET\n",
      "Pulling:  MMM\n",
      "Pulling:  MO\n",
      "Pulling:  MRK\n",
      "\u001b[33m+ API call per min limit - Sleeping for one minute\u001b[0m\n"
     ]
    },
    {
     "data": {
      "text/plain": [
       "'Progress: [####################] 100.0%'"
      ]
     },
     "metadata": {},
     "output_type": "display_data"
    },
    {
     "name": "stdout",
     "output_type": "stream",
     "text": [
      "Pulling:  MS\n",
      "Pulling:  MSFT\n",
      "Pulling:  NEE\n",
      "Pulling:  NFLX\n",
      "Pulling:  NKE\n",
      "\u001b[33m+ API call per min limit - Sleeping for one minute\u001b[0m\n"
     ]
    },
    {
     "data": {
      "text/plain": [
       "'Progress: [####################] 100.0%'"
      ]
     },
     "metadata": {},
     "output_type": "display_data"
    },
    {
     "name": "stdout",
     "output_type": "stream",
     "text": [
      "Pulling:  NVDA\n",
      "Pulling:  ORCL\n",
      "Pulling:  OXY\n",
      "Pulling:  PEP\n",
      "Pulling:  PFE\n",
      "\u001b[33m+ API call per min limit - Sleeping for one minute\u001b[0m\n"
     ]
    },
    {
     "data": {
      "text/plain": [
       "'Progress: [####################] 100.0%'"
      ]
     },
     "metadata": {},
     "output_type": "display_data"
    },
    {
     "name": "stdout",
     "output_type": "stream",
     "text": [
      "Pulling:  PG\n",
      "Pulling:  PM\n",
      "Pulling:  PYPL\n",
      "Pulling:  QCOM\n",
      "Pulling:  RTX\n",
      "\u001b[33m+ API call per min limit - Sleeping for one minute\u001b[0m\n"
     ]
    },
    {
     "data": {
      "text/plain": [
       "'Progress: [####################] 100.0%'"
      ]
     },
     "metadata": {},
     "output_type": "display_data"
    },
    {
     "name": "stdout",
     "output_type": "stream",
     "text": [
      "Pulling:  SBUX\n",
      "Pulling:  SLB\n",
      "Pulling:  SO\n",
      "Pulling:  SPG\n",
      "Pulling:  T\n",
      "\u001b[33m+ API call per min limit - Sleeping for one minute\u001b[0m\n"
     ]
    },
    {
     "data": {
      "text/plain": [
       "'Progress: [####################] 100.0%'"
      ]
     },
     "metadata": {},
     "output_type": "display_data"
    },
    {
     "name": "stdout",
     "output_type": "stream",
     "text": [
      "Pulling:  TGT\n",
      "Pulling:  TMO\n",
      "Pulling:  TXN\n",
      "Pulling:  UNH\n",
      "Pulling:  UNP\n",
      "\u001b[33m+ API call per min limit - Sleeping for one minute\u001b[0m\n"
     ]
    },
    {
     "data": {
      "text/plain": [
       "'Progress: [####################] 100.0%'"
      ]
     },
     "metadata": {},
     "output_type": "display_data"
    },
    {
     "name": "stdout",
     "output_type": "stream",
     "text": [
      "Pulling:  UPS\n",
      "Pulling:  USB\n",
      "Pulling:  V\n",
      "Pulling:  VZ\n",
      "Pulling:  WBA\n",
      "\u001b[33m+ API call per min limit - Sleeping for one minute\u001b[0m\n"
     ]
    },
    {
     "data": {
      "text/plain": [
       "'Progress: [####################] 100.0%'"
      ]
     },
     "metadata": {},
     "output_type": "display_data"
    },
    {
     "name": "stdout",
     "output_type": "stream",
     "text": [
      "Pulling:  WFC\n",
      "Pulling:  WMT\n",
      "Pulling:  XOM\n",
      "\u001b[32m*** Finished task ***\u001b[0m\n",
      "Value of api_call_counter:  68\n"
     ]
    }
   ],
   "source": [
    "counter_delta = 0\n",
    "for i, ticker in enumerate(sp100_ticker_df.ticker):\n",
    "    with open(api_call_counter_file_path, 'wb') as f:\n",
    "        pickle.dump(api_call_counter, f)\n",
    "    \n",
    "    if(api_call_counter == 500):\n",
    "        print(colored(\"Reached the maximum api calls allowed for today\", 'magenta'))\n",
    "        break\n",
    "        \n",
    "    # Check if data already exists\n",
    "    save_path_file = data_cache / (ticker + \"_intraday.csv\")\n",
    "    if os.path.exists(save_path_file):\n",
    "        print(colored(\"Data for \" + ticker + \" already exists\", 'green'))        \n",
    "        continue\n",
    "    \n",
    "    # API call limit 5 / minute\n",
    "    if((counter_delta % 5 == 0) and (counter_delta != 0)) : \n",
    "        print(colored(\"+ API call per min limit - Sleeping for one minute\", 'yellow'))\n",
    "        wait_1_minute()\n",
    "        #time.sleep(60)\n",
    "    \n",
    "    # Pull data\n",
    "    print(\"Pulling: \", ticker)\n",
    "    try:\n",
    "        data, meta_data = ts.get_intraday(ticker, interval=\"1min\", outputsize='full')\n",
    "    except ValueError: \n",
    "        print(colored(\"- ValueError - Sleeping for one minute\", 'red'))\n",
    "        wait_1_minute()\n",
    "        #time.sleep(60)\n",
    "        try:\n",
    "            data, meta_data = ts.get_intraday(ticker, interval=\"1min\", outputsize='full')\n",
    "        except:\n",
    "            print(colored((\"- Exception - Could not pull \" + ticker), 'red'))\n",
    "            api_call_counter += 2\n",
    "            counter_delta += 2\n",
    "            continue\n",
    "\n",
    "        \n",
    "    save_path_file = data_cache / (ticker + \"_intraday.csv\")\n",
    "\n",
    "    data.to_csv(save_path_file)\n",
    "    \n",
    "    api_call_counter += 1\n",
    "    counter_delta += 1\n",
    "    \n",
    "with open(api_call_counter_file_path, 'wb') as f:\n",
    "    pickle.dump(api_call_counter, f)\n",
    "    \n",
    "print(colored(\"*** Finished task ***\", 'green'))\n",
    "print(\"Value of api_call_counter: \", api_call_counter)"
   ]
  },
  {
   "cell_type": "code",
   "execution_count": 59,
   "metadata": {},
   "outputs": [
    {
     "name": "stdout",
     "output_type": "stream",
     "text": [
      "Opening path  data_cache\\2020-04-20\\AMZN_intraday.csv\n"
     ]
    },
    {
     "data": {
      "text/html": [
       "<div>\n",
       "<style scoped>\n",
       "    .dataframe tbody tr th:only-of-type {\n",
       "        vertical-align: middle;\n",
       "    }\n",
       "\n",
       "    .dataframe tbody tr th {\n",
       "        vertical-align: top;\n",
       "    }\n",
       "\n",
       "    .dataframe thead th {\n",
       "        text-align: right;\n",
       "    }\n",
       "</style>\n",
       "<table border=\"1\" class=\"dataframe\">\n",
       "  <thead>\n",
       "    <tr style=\"text-align: right;\">\n",
       "      <th></th>\n",
       "      <th>date</th>\n",
       "      <th>1. open</th>\n",
       "      <th>2. high</th>\n",
       "      <th>3. low</th>\n",
       "      <th>4. close</th>\n",
       "      <th>5. volume</th>\n",
       "    </tr>\n",
       "  </thead>\n",
       "  <tbody>\n",
       "    <tr>\n",
       "      <th>0</th>\n",
       "      <td>2020-04-14 09:31:00</td>\n",
       "      <td>2197.5400</td>\n",
       "      <td>2197.54</td>\n",
       "      <td>2197.5400</td>\n",
       "      <td>2197.54</td>\n",
       "      <td>350483.0</td>\n",
       "    </tr>\n",
       "    <tr>\n",
       "      <th>1</th>\n",
       "      <td>2020-04-14 09:32:00</td>\n",
       "      <td>2196.0010</td>\n",
       "      <td>2204.00</td>\n",
       "      <td>2191.5359</td>\n",
       "      <td>2203.97</td>\n",
       "      <td>50235.0</td>\n",
       "    </tr>\n",
       "    <tr>\n",
       "      <th>2</th>\n",
       "      <td>2020-04-14 09:33:00</td>\n",
       "      <td>2202.4099</td>\n",
       "      <td>2210.00</td>\n",
       "      <td>2202.3601</td>\n",
       "      <td>2208.27</td>\n",
       "      <td>63133.0</td>\n",
       "    </tr>\n",
       "    <tr>\n",
       "      <th>3</th>\n",
       "      <td>2020-04-14 09:34:00</td>\n",
       "      <td>2210.7200</td>\n",
       "      <td>2212.03</td>\n",
       "      <td>2210.7200</td>\n",
       "      <td>2212.03</td>\n",
       "      <td>63164.0</td>\n",
       "    </tr>\n",
       "    <tr>\n",
       "      <th>4</th>\n",
       "      <td>2020-04-14 09:35:00</td>\n",
       "      <td>2215.6299</td>\n",
       "      <td>2217.46</td>\n",
       "      <td>2215.6299</td>\n",
       "      <td>2217.46</td>\n",
       "      <td>61222.0</td>\n",
       "    </tr>\n",
       "  </tbody>\n",
       "</table>\n",
       "</div>"
      ],
      "text/plain": [
       "                 date    1. open  2. high     3. low  4. close  5. volume\n",
       "0 2020-04-14 09:31:00  2197.5400  2197.54  2197.5400   2197.54   350483.0\n",
       "1 2020-04-14 09:32:00  2196.0010  2204.00  2191.5359   2203.97    50235.0\n",
       "2 2020-04-14 09:33:00  2202.4099  2210.00  2202.3601   2208.27    63133.0\n",
       "3 2020-04-14 09:34:00  2210.7200  2212.03  2210.7200   2212.03    63164.0\n",
       "4 2020-04-14 09:35:00  2215.6299  2217.46  2215.6299   2217.46    61222.0"
      ]
     },
     "metadata": {},
     "output_type": "display_data"
    }
   ],
   "source": [
    "# Plat with technical indicators\n",
    "\n",
    "amzn_df = open_single_intraday('AMZN', data_cache)\n",
    "display(amzn_df.head())"
   ]
  },
  {
   "cell_type": "code",
   "execution_count": 60,
   "metadata": {},
   "outputs": [
    {
     "name": "stdout",
     "output_type": "stream",
     "text": [
      "<class 'pandas._libs.tslibs.timestamps.Timestamp'>\n",
      "2020-04-14 09:31:00\n"
     ]
    }
   ],
   "source": [
    "# Sandbox\n",
    "\n",
    "close = amzn_df['4. close']\n",
    "upper, middle, lower = talib.BBANDS(close, matype=talib.MA_Type.T3)\n",
    "\n",
    "print(type(amzn_df['date'][0]))\n",
    "print(amzn_df['date'][0])"
   ]
  },
  {
   "cell_type": "code",
   "execution_count": 61,
   "metadata": {},
   "outputs": [
    {
     "data": {
      "image/png": "[encoded data removed]",
      "text/plain": [
       "<Figure size 1440x720 with 1 Axes>"
      ]
     },
     "metadata": {
      "needs_background": "light"
     },
     "output_type": "display_data"
    }
   ],
   "source": [
    "fig, ax = plt.subplots(1, 1, figsize=(20, 10))\n",
    "datetime_list = amzn_df['date'].apply(str)\n",
    "open_time_args = []\n",
    "for i, datetime in enumerate(datetime_list):\n",
    "    if '9:31' in datetime:\n",
    "        open_time_args.append(i)\n",
    "        \n",
    "dummy_values = np.arange(0,len(amzn_df['date']),1)\n",
    "ax.plot(dummy_values, close)\n",
    "plt.xticks(dummy_values[::150],amzn_df['date'][::150]) # rotation=60)\n",
    "plt.xticks(rotation=60)\n",
    "\n",
    "# Return all args of date where time contains 9:31\n",
    "for x in open_time_args:\n",
    "    ax.axvline(x=x, c='r')\n",
    "plt.show()\n",
    "\n",
    "\n"
   ]
  },
  {
   "cell_type": "code",
   "execution_count": null,
   "metadata": {},
   "outputs": [],
   "source": []
  }
 ],
 "metadata": {
  "kernelspec": {
   "display_name": "Python 3",
   "language": "python",
   "name": "python3"
  },
  "language_info": {
   "codemirror_mode": {
    "name": "ipython",
    "version": 3
   },
   "file_extension": ".py",
   "mimetype": "text/x-python",
   "name": "python",
   "nbconvert_exporter": "python",
   "pygments_lexer": "ipython3",
   "version": "3.7.7"
  }
 },
 "nbformat": 4,
 "nbformat_minor": 4
}
